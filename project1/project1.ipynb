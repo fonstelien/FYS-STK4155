{
 "cells": [
  {
   "cell_type": "markdown",
   "metadata": {},
   "source": [
    "# FYS-STK 4155 H20 PROJECT 1\n",
    "\n",
    "## Definitions"
   ]
  },
  {
   "cell_type": "code",
   "execution_count": 87,
   "metadata": {},
   "outputs": [],
   "source": [
    "# From the assignment; The function that we are goint to approximate\n",
    "def FrankeFunction(x,y):\n",
    "    term1 = 0.75*np.exp(-(0.25*(9*x-2)**2) - 0.25*((9*y-2)**2))\n",
    "    term2 = 0.75*np.exp(-((9*x+1)**2)/49.0 - 0.1*(9*y+1))\n",
    "    term3 = 0.5*np.exp(-(9*x-7)**2/4.0 - 0.25*((9*y-3)**2))\n",
    "    term4 = -0.2*np.exp(-(9*x-4)**2 - (9*y-7)**2)\n",
    "    return term1 + term2 + term3 + term4"
   ]
  },
  {
   "cell_type": "code",
   "execution_count": 93,
   "metadata": {},
   "outputs": [],
   "source": [
    "# Defining the approximated function's polinomial degree. NOTE: Deg x = deg y\n",
    "polinomial_degree = 5"
   ]
  },
  {
   "cell_type": "code",
   "execution_count": 96,
   "metadata": {},
   "outputs": [],
   "source": [
    "# Defining the space in which we will evaluate and approximate the FrankeFunction()\n",
    "n = 4\n",
    "x_start = y_start = 0.\n",
    "x_end = y_end = 1.\n",
    "x = np.linspace(x_start, x_end, n)\n",
    "y = np.linspace(y_start, y_end, n)"
   ]
  },
  {
   "cell_type": "code",
   "execution_count": 89,
   "metadata": {},
   "outputs": [],
   "source": [
    "# Adding some randn() noise to the FrankeFunction() and returning samples in an ndarray with just the right shape and ordered in step-wise increments of x for each full sweep of y\n",
    "def noisy_franky(noise_sigma=0.):\n",
    "    Z = np.ndarray([x.size, y.size])\n",
    "    for i, xi in enumerate(x):\n",
    "        Z[i,:] = FrankeFunction(xi, y) + noise_sigma*np.random.randn(n)\n",
    "    return np.reshape(Z, x.size*y.size, order='F')"
   ]
  },
  {
   "cell_type": "code",
   "execution_count": 94,
   "metadata": {},
   "outputs": [],
   "source": [
    "# Setting up the design matrix X. Here we must initialize it with the right shape of powers of x and y, reflecting the how we set up the sample array in noisy_franky() above\n",
    "X = np.ndarray([n**2, 2*polinomial_degree+2])\n",
    "for k in range(n):\n",
    "    for i in range(polinomial_degree+1):\n",
    "        X[k*n:(k+1)*n,i] = x[k]**i\n",
    "    for i in range(polinomial_degree+1):\n",
    "        X[k*n:(k+1)*n,polinomial_degree+1+i] = y**i"
   ]
  }
 ],
 "metadata": {
  "kernelspec": {
   "display_name": "Python 3",
   "language": "python",
   "name": "python3"
  },
  "language_info": {
   "codemirror_mode": {
    "name": "ipython",
    "version": 3
   },
   "file_extension": ".py",
   "mimetype": "text/x-python",
   "name": "python",
   "nbconvert_exporter": "python",
   "pygments_lexer": "ipython3",
   "version": "3.8.3"
  }
 },
 "nbformat": 4,
 "nbformat_minor": 4
}
