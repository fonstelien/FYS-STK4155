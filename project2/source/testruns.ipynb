{
 "cells": [
  {
   "cell_type": "code",
   "execution_count": 37,
   "metadata": {},
   "outputs": [],
   "source": [
    "n = 100\n",
    "np.random.seed(0)\n",
    "x = np.random.rand(n,1)\n",
    "y = 4 + 2*x + .05*np.random.rand(n,1)\n",
    "X = np.c_[np.ones(n), x]"
   ]
  },
  {
   "cell_type": "code",
   "execution_count": 44,
   "metadata": {},
   "outputs": [
    {
     "data": {
      "text/plain": [
       "array([[4.027904  ],\n",
       "       [1.99682755]])"
      ]
     },
     "execution_count": 44,
     "metadata": {},
     "output_type": "execute_result"
    }
   ],
   "source": [
    "b_ols = np.linalg.inv(X.T @ X) @ X.T @ y\n",
    "b_ols"
   ]
  },
  {
   "cell_type": "code",
   "execution_count": 45,
   "metadata": {},
   "outputs": [
    {
     "data": {
      "text/plain": [
       "array([[4.01875911],\n",
       "       [2.01485506]])"
      ]
     },
     "execution_count": 45,
     "metadata": {},
     "output_type": "execute_result"
    }
   ],
   "source": [
    "eta = .05\n",
    "its = 100\n",
    "b_gd = np.array([[.0],[.0]])\n",
    "for it in range(its):\n",
    "    grad = 2/n * X.T @ (X @ b_gd - y)\n",
    "    b_gd = b_gd - eta*grad\n",
    "b_gd"
   ]
  },
  {
   "cell_type": "code",
   "execution_count": 146,
   "metadata": {},
   "outputs": [
    {
     "name": "stdout",
     "output_type": "stream",
     "text": [
      "[[3.99789401]\n",
      " [1.97782246]]\n"
     ]
    }
   ],
   "source": [
    "epochs = 10\n",
    "batches = 5\n",
    "\n",
    "t0, t1 = epochs/10, epochs\n",
    "def learning_schedule(t):\n",
    "    return t0 / (t + t1)\n",
    "\n",
    "\n",
    "b_sgd = np.array([[.0],[.0]])\n",
    "for epoch in range(epochs):\n",
    "    bn = int(n/batches)\n",
    "    X_shuffled, y_shuffled = skl.utils.resample(X, y, replace=False, random_state=epoch)\n",
    "    for batch in range(batches):\n",
    "        Xb = X_shuffled[bn*batch:bn*(batch+1)]\n",
    "        yb = y_shuffled[bn*batch:bn*(batch+1)]\n",
    "        grad = 2/bn * Xb.T @ (Xb @ b_sgd - yb)\n",
    "        eta = learning_schedule(epoch*batches + batch)\n",
    "        b_sgd = b_sgd - eta*grad\n",
    "print(b_sgd)"
   ]
  },
  {
   "cell_type": "code",
   "execution_count": 213,
   "metadata": {},
   "outputs": [
    {
     "name": "stdout",
     "output_type": "stream",
     "text": [
      "[[3.72007746]\n",
      " [1.86825833]]\n"
     ]
    }
   ],
   "source": [
    "from StochasticGradientDescent import SGD\n",
    "sgd = SGD(epochs=20, batches=10, learning_schedule='optimal', cost_function='ridge')\n",
    "beta = sgd.run(X, y, lmd=.1)\n",
    "print(beta)"
   ]
  },
  {
   "cell_type": "code",
   "execution_count": 215,
   "metadata": {},
   "outputs": [
    {
     "data": {
      "text/plain": [
       "\u001b[0;31mSignature:\u001b[0m \u001b[0msgd\u001b[0m\u001b[0;34m.\u001b[0m\u001b[0mrun\u001b[0m\u001b[0;34m(\u001b[0m\u001b[0mX\u001b[0m\u001b[0;34m,\u001b[0m \u001b[0my\u001b[0m\u001b[0;34m,\u001b[0m \u001b[0mbeta0\u001b[0m\u001b[0;34m=\u001b[0m\u001b[0;32mNone\u001b[0m\u001b[0;34m,\u001b[0m \u001b[0mlmd\u001b[0m\u001b[0;34m=\u001b[0m\u001b[0;32mNone\u001b[0m\u001b[0;34m)\u001b[0m\u001b[0;34m\u001b[0m\u001b[0;34m\u001b[0m\u001b[0m\n",
       "\u001b[0;31mDocstring:\u001b[0m Runs Stochastic Gradient Descent with inputs to cost function X, y, starting point beta0 is set to all-zeros if None, lmd is Ridge's L2 hyperparameter and is used in learning_schedule 'optimal'.\n",
       "\u001b[0;31mFile:\u001b[0m      ~/Documents/stud/FYS-STK4155/project2/source/StochasticGradientDescent.py\n",
       "\u001b[0;31mType:\u001b[0m      method\n"
      ]
     },
     "metadata": {},
     "output_type": "display_data"
    }
   ],
   "source": [
    "?sgd.run"
   ]
  }
 ],
 "metadata": {
  "kernelspec": {
   "display_name": "Python 3",
   "language": "python",
   "name": "python3"
  },
  "language_info": {
   "codemirror_mode": {
    "name": "ipython",
    "version": 3
   },
   "file_extension": ".py",
   "mimetype": "text/x-python",
   "name": "python",
   "nbconvert_exporter": "python",
   "pygments_lexer": "ipython3",
   "version": "3.8.5"
  }
 },
 "nbformat": 4,
 "nbformat_minor": 4
}
