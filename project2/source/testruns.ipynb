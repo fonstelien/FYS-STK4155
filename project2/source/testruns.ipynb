{
 "cells": [
  {
   "cell_type": "markdown",
   "metadata": {},
   "source": [
    "# Test runs\n",
    "Below follows some test runs of my implementations on basic problems."
   ]
  },
  {
   "cell_type": "markdown",
   "metadata": {},
   "source": [
    "### ```SGD``` class on basic first-degree polynomial line-fitting problem"
   ]
  },
  {
   "cell_type": "code",
   "execution_count": 402,
   "metadata": {},
   "outputs": [],
   "source": [
    "n = 100\n",
    "np.random.seed(0)\n",
    "x = np.random.rand(n,1)\n",
    "y = 4 + 2*x + .05*np.random.rand(n,1)\n",
    "X = np.c_[np.ones(n), x]"
   ]
  },
  {
   "cell_type": "code",
   "execution_count": 403,
   "metadata": {},
   "outputs": [
    {
     "name": "stdout",
     "output_type": "stream",
     "text": [
      "ols-inversion:\n",
      " [[4.027904  ]\n",
      " [1.99682755]]\n"
     ]
    }
   ],
   "source": [
    "beta = np.linalg.inv(X.T @ X) @ X.T @ y\n",
    "print('ols-inversion:\\n', beta)"
   ]
  },
  {
   "cell_type": "code",
   "execution_count": 404,
   "metadata": {},
   "outputs": [
    {
     "name": "stdout",
     "output_type": "stream",
     "text": [
      "ols-sgd:\n",
      " [[3.99789401]\n",
      " [1.97782246]]\n",
      "ridge-sgd:\n",
      " [[3.72007746]\n",
      " [1.86825833]]\n"
     ]
    }
   ],
   "source": [
    "from StochasticGradientDescent import SGD\n",
    "\n",
    "sgd = SGD(epochs=10, batches=5, learning_schedule='optimal', cost_function='ols')\n",
    "beta = sgd.run(X, y)\n",
    "print('ols-sgd:\\n', beta)\n",
    "\n",
    "sgd = SGD(epochs=20, batches=10, learning_schedule='optimal', cost_function='ridge')\n",
    "beta = sgd.run(X, y, lmd=.1)\n",
    "print('ridge-sgd:\\n', beta)"
   ]
  },
  {
   "cell_type": "markdown",
   "metadata": {},
   "source": [
    "### `SGD` class together with implementations of OLS and Ridge in `ols.py` and `ridge.py` "
   ]
  },
  {
   "cell_type": "code",
   "execution_count": 405,
   "metadata": {},
   "outputs": [],
   "source": [
    "import ols, ridge\n",
    "from utils import *\n",
    "\n",
    "n = 100\n",
    "x, y = randmesh(sn=n)\n",
    "z = 1. + 2.*x + 3.*y + 4.*x*x + 5*x*y + 6*y*y + .03*np.random.rand(n,1)\n",
    "X = make_design_matrix(x, y, pn=2)"
   ]
  },
  {
   "cell_type": "code",
   "execution_count": 406,
   "metadata": {},
   "outputs": [
    {
     "name": "stdout",
     "output_type": "stream",
     "text": [
      "ols-inversion:\n",
      " [[1.02429934]\n",
      " [1.98277384]\n",
      " [2.97928365]\n",
      " [4.00860255]\n",
      " [5.01623802]\n",
      " [6.00975532]]\n"
     ]
    }
   ],
   "source": [
    "# Direct inversion\n",
    "beta = np.linalg.inv(X.T @ X) @ X.T @ z\n",
    "print('ols-inversion:\\n', beta)"
   ]
  },
  {
   "cell_type": "code",
   "execution_count": 414,
   "metadata": {},
   "outputs": [
    {
     "name": "stdout",
     "output_type": "stream",
     "text": [
      "ols-sgd:\n",
      " [[1.07049348]\n",
      " [2.10085946]\n",
      " [2.90572522]\n",
      " [3.96732253]\n",
      " [4.93328259]\n",
      " [6.12359383]]\n"
     ]
    },
    {
     "data": {
      "text/html": [
       "<div>\n",
       "<style scoped>\n",
       "    .dataframe tbody tr th:only-of-type {\n",
       "        vertical-align: middle;\n",
       "    }\n",
       "\n",
       "    .dataframe tbody tr th {\n",
       "        vertical-align: top;\n",
       "    }\n",
       "\n",
       "    .dataframe thead th {\n",
       "        text-align: right;\n",
       "    }\n",
       "</style>\n",
       "<table border=\"1\" class=\"dataframe\">\n",
       "  <thead>\n",
       "    <tr style=\"text-align: right;\">\n",
       "      <th></th>\n",
       "      <th>pol_order</th>\n",
       "      <th>train_mse</th>\n",
       "      <th>test_mse</th>\n",
       "    </tr>\n",
       "  </thead>\n",
       "  <tbody>\n",
       "    <tr>\n",
       "      <th>2</th>\n",
       "      <td>2.0</td>\n",
       "      <td>0.002434</td>\n",
       "      <td>0.002483</td>\n",
       "    </tr>\n",
       "  </tbody>\n",
       "</table>\n",
       "</div>"
      ],
      "text/plain": [
       "   pol_order  train_mse  test_mse\n",
       "2        2.0   0.002434  0.002483"
      ]
     },
     "execution_count": 414,
     "metadata": {},
     "output_type": "execute_result"
    }
   ],
   "source": [
    "# Regular OLS\n",
    "sgd = SGD(epochs=50, batches=40, learning_schedule='constant', eta0=.5, cost_function='ols')\n",
    "df = ols.run_ols_kfold(X, z, sgd, k=5, polynomial_orders=[2])\n",
    "print('ols-sgd:\\n', sgd.beta)\n",
    "df"
   ]
  },
  {
   "cell_type": "code",
   "execution_count": 409,
   "metadata": {},
   "outputs": [
    {
     "name": "stdout",
     "output_type": "stream",
     "text": [
      "ridge-sgd:\n",
      " [[8.43104528]\n",
      " [0.47606812]\n",
      " [0.64298641]\n",
      " [1.24295542]\n",
      " [1.0490371 ]\n",
      " [1.9085351 ]]\n"
     ]
    },
    {
     "data": {
      "text/html": [
       "<div>\n",
       "<style scoped>\n",
       "    .dataframe tbody tr th:only-of-type {\n",
       "        vertical-align: middle;\n",
       "    }\n",
       "\n",
       "    .dataframe tbody tr th {\n",
       "        vertical-align: top;\n",
       "    }\n",
       "\n",
       "    .dataframe thead th {\n",
       "        text-align: right;\n",
       "    }\n",
       "</style>\n",
       "<table border=\"1\" class=\"dataframe\">\n",
       "  <thead>\n",
       "    <tr style=\"text-align: right;\">\n",
       "      <th></th>\n",
       "      <th>lambda</th>\n",
       "      <th>train_mse_2</th>\n",
       "      <th>test_mse_2</th>\n",
       "    </tr>\n",
       "  </thead>\n",
       "  <tbody>\n",
       "    <tr>\n",
       "      <th>0</th>\n",
       "      <td>0.001000</td>\n",
       "      <td>0.003379</td>\n",
       "      <td>0.004296</td>\n",
       "    </tr>\n",
       "    <tr>\n",
       "      <th>1</th>\n",
       "      <td>0.001292</td>\n",
       "      <td>0.003106</td>\n",
       "      <td>0.003967</td>\n",
       "    </tr>\n",
       "    <tr>\n",
       "      <th>2</th>\n",
       "      <td>0.001668</td>\n",
       "      <td>0.002809</td>\n",
       "      <td>0.003607</td>\n",
       "    </tr>\n",
       "    <tr>\n",
       "      <th>3</th>\n",
       "      <td>0.002154</td>\n",
       "      <td>0.002515</td>\n",
       "      <td>0.003240</td>\n",
       "    </tr>\n",
       "    <tr>\n",
       "      <th>4</th>\n",
       "      <td>0.002783</td>\n",
       "      <td>0.002271</td>\n",
       "      <td>0.002917</td>\n",
       "    </tr>\n",
       "    <tr>\n",
       "      <th>5</th>\n",
       "      <td>0.003594</td>\n",
       "      <td>0.002161</td>\n",
       "      <td>0.002725</td>\n",
       "    </tr>\n",
       "    <tr>\n",
       "      <th>6</th>\n",
       "      <td>0.004642</td>\n",
       "      <td>0.002320</td>\n",
       "      <td>0.002807</td>\n",
       "    </tr>\n",
       "    <tr>\n",
       "      <th>7</th>\n",
       "      <td>0.005995</td>\n",
       "      <td>0.002960</td>\n",
       "      <td>0.003382</td>\n",
       "    </tr>\n",
       "    <tr>\n",
       "      <th>8</th>\n",
       "      <td>0.007743</td>\n",
       "      <td>0.004397</td>\n",
       "      <td>0.004777</td>\n",
       "    </tr>\n",
       "    <tr>\n",
       "      <th>9</th>\n",
       "      <td>0.010000</td>\n",
       "      <td>0.007102</td>\n",
       "      <td>0.007470</td>\n",
       "    </tr>\n",
       "  </tbody>\n",
       "</table>\n",
       "</div>"
      ],
      "text/plain": [
       "     lambda  train_mse_2  test_mse_2\n",
       "0  0.001000     0.003379    0.004296\n",
       "1  0.001292     0.003106    0.003967\n",
       "2  0.001668     0.002809    0.003607\n",
       "3  0.002154     0.002515    0.003240\n",
       "4  0.002783     0.002271    0.002917\n",
       "5  0.003594     0.002161    0.002725\n",
       "6  0.004642     0.002320    0.002807\n",
       "7  0.005995     0.002960    0.003382\n",
       "8  0.007743     0.004397    0.004777\n",
       "9  0.010000     0.007102    0.007470"
      ]
     },
     "execution_count": 409,
     "metadata": {},
     "output_type": "execute_result"
    }
   ],
   "source": [
    "# Ridge\n",
    "sgd = SGD(epochs=100, batches=40, learning_schedule='invscaling', eta0=.5, cost_function='ridge')\n",
    "ridge.run_ridge_kfold(X, z, sgd, k=5, polynomial_orders=[2], lambdas=[0.003594])\n",
    "print('ridge-sgd:\\n', sgd.beta)\n",
    "df = ridge.run_ridge_kfold(X, z, sgd, k=5, polynomial_orders=[2], lambdas=np.logspace(-3,-2,10))\n",
    "df"
   ]
  },
  {
   "cell_type": "code",
   "execution_count": 435,
   "metadata": {},
   "outputs": [
    {
     "data": {
      "text/plain": [
       "array([[0.82841798],\n",
       "       [0.81966086],\n",
       "       [0.77647364]])"
      ]
     },
     "execution_count": 435,
     "metadata": {},
     "output_type": "execute_result"
    }
   ],
   "source": [
    "from FeedForwardNeuralNetwork import Layer\n",
    "layer = Layer(3, 2)\n",
    "inputs = np.array([1,2]).reshape((2,1))\n",
    "layer.feed_forward(inputs)"
   ]
  },
  {
   "cell_type": "code",
   "execution_count": 453,
   "metadata": {},
   "outputs": [
    {
     "data": {
      "text/plain": [
       "array([[0.13161788],\n",
       "       [0.06505264],\n",
       "       [0.1562452 ]])"
      ]
     },
     "execution_count": 453,
     "metadata": {},
     "output_type": "execute_result"
    }
   ],
   "source": [
    "weights = np.random.rand(3,4)\n",
    "deltas = np.random.rand(4,1)\n",
    "layer.back_propagate(weights, deltas)\n",
    "layer.derivatives * (weights @ deltas)"
   ]
  }
 ],
 "metadata": {
  "kernelspec": {
   "display_name": "Python 3",
   "language": "python",
   "name": "python3"
  },
  "language_info": {
   "codemirror_mode": {
    "name": "ipython",
    "version": 3
   },
   "file_extension": ".py",
   "mimetype": "text/x-python",
   "name": "python",
   "nbconvert_exporter": "python",
   "pygments_lexer": "ipython3",
   "version": "3.8.5"
  }
 },
 "nbformat": 4,
 "nbformat_minor": 4
}
