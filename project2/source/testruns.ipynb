{
 "cells": [
  {
   "cell_type": "markdown",
   "metadata": {},
   "source": [
    "# Test runs\n",
    "Below follows some test runs of my implementations on basic problems."
   ]
  },
  {
   "cell_type": "markdown",
   "metadata": {},
   "source": [
    "### ```SGD``` class on basic first-degree polynomial line-fitting problem"
   ]
  },
  {
   "cell_type": "code",
   "execution_count": 1,
   "metadata": {},
   "outputs": [],
   "source": [
    "n = 100\n",
    "np.random.seed(0)\n",
    "x = np.random.rand(n,1)\n",
    "y = 4 + 2*x + .05*np.random.rand(n,1)\n",
    "X = np.c_[np.ones(n), x]"
   ]
  },
  {
   "cell_type": "code",
   "execution_count": 2,
   "metadata": {},
   "outputs": [
    {
     "name": "stdout",
     "output_type": "stream",
     "text": [
      "ols-inversion:\n",
      " [[4.027904  ]\n",
      " [1.99682755]]\n"
     ]
    }
   ],
   "source": [
    "beta = np.linalg.inv(X.T @ X) @ X.T @ y\n",
    "print('ols-inversion:\\n', beta)"
   ]
  },
  {
   "cell_type": "code",
   "execution_count": 3,
   "metadata": {},
   "outputs": [
    {
     "name": "stdout",
     "output_type": "stream",
     "text": [
      "ols-sgd:\n",
      " [[3.99789401]\n",
      " [1.97782246]]\n",
      "ridge-sgd:\n",
      " [[3.72007746]\n",
      " [1.86825833]]\n"
     ]
    }
   ],
   "source": [
    "from StochasticGradientDescent import SGD\n",
    "\n",
    "sgd = SGD(epochs=10, batches=5, learning_schedule='optimal', cost_function='ols')\n",
    "beta = sgd.run(X, y)\n",
    "print('ols-sgd:\\n', beta)\n",
    "\n",
    "sgd = SGD(epochs=20, batches=10, learning_schedule='optimal', cost_function='ridge')\n",
    "beta = sgd.run(X, y, lmd=.1)\n",
    "print('ridge-sgd:\\n', beta)"
   ]
  },
  {
   "cell_type": "markdown",
   "metadata": {},
   "source": [
    "### `SGD` class together with implementations of OLS and Ridge in `ols.py` and `ridge.py` "
   ]
  },
  {
   "cell_type": "code",
   "execution_count": 4,
   "metadata": {},
   "outputs": [],
   "source": [
    "import ols, ridge\n",
    "from utils import *\n",
    "\n",
    "n = 100\n",
    "x, y = randmesh(sn=n)\n",
    "z = 1. + 2.*x + 3.*y + 4.*x*x + 5*x*y + 6*y*y + .03*np.random.rand(n,1)\n",
    "X = make_design_matrix(x, y, pn=2)"
   ]
  },
  {
   "cell_type": "code",
   "execution_count": 5,
   "metadata": {},
   "outputs": [
    {
     "name": "stdout",
     "output_type": "stream",
     "text": [
      "ols-inversion:\n",
      " [[1.02429934]\n",
      " [1.98277384]\n",
      " [2.97928365]\n",
      " [4.00860255]\n",
      " [5.01623802]\n",
      " [6.00975532]]\n"
     ]
    }
   ],
   "source": [
    "# Direct inversion\n",
    "beta = np.linalg.inv(X.T @ X) @ X.T @ z\n",
    "print('ols-inversion:\\n', beta)"
   ]
  },
  {
   "cell_type": "code",
   "execution_count": 6,
   "metadata": {},
   "outputs": [
    {
     "name": "stdout",
     "output_type": "stream",
     "text": [
      "ols-sgd:\n",
      " [[1.07049348]\n",
      " [2.10085946]\n",
      " [2.90572522]\n",
      " [3.96732253]\n",
      " [4.93328259]\n",
      " [6.12359383]]\n"
     ]
    },
    {
     "data": {
      "text/html": [
       "<div>\n",
       "<style scoped>\n",
       "    .dataframe tbody tr th:only-of-type {\n",
       "        vertical-align: middle;\n",
       "    }\n",
       "\n",
       "    .dataframe tbody tr th {\n",
       "        vertical-align: top;\n",
       "    }\n",
       "\n",
       "    .dataframe thead th {\n",
       "        text-align: right;\n",
       "    }\n",
       "</style>\n",
       "<table border=\"1\" class=\"dataframe\">\n",
       "  <thead>\n",
       "    <tr style=\"text-align: right;\">\n",
       "      <th></th>\n",
       "      <th>pol_order</th>\n",
       "      <th>train_mse</th>\n",
       "      <th>test_mse</th>\n",
       "    </tr>\n",
       "  </thead>\n",
       "  <tbody>\n",
       "    <tr>\n",
       "      <th>2</th>\n",
       "      <td>2.0</td>\n",
       "      <td>0.002434</td>\n",
       "      <td>0.002483</td>\n",
       "    </tr>\n",
       "  </tbody>\n",
       "</table>\n",
       "</div>"
      ],
      "text/plain": [
       "   pol_order  train_mse  test_mse\n",
       "2        2.0   0.002434  0.002483"
      ]
     },
     "execution_count": 6,
     "metadata": {},
     "output_type": "execute_result"
    }
   ],
   "source": [
    "# Regular OLS\n",
    "sgd = SGD(epochs=50, batches=40, learning_schedule='constant', eta0=.5, cost_function='ols')\n",
    "df = ols.run_ols_kfold(X, z, sgd, k=5, polynomial_orders=[2])\n",
    "print('ols-sgd:\\n', sgd.beta)\n",
    "df"
   ]
  },
  {
   "cell_type": "code",
   "execution_count": 7,
   "metadata": {},
   "outputs": [
    {
     "name": "stdout",
     "output_type": "stream",
     "text": [
      "ridge-sgd:\n",
      " [[8.43104528]\n",
      " [0.47606812]\n",
      " [0.64298641]\n",
      " [1.24295542]\n",
      " [1.0490371 ]\n",
      " [1.9085351 ]]\n"
     ]
    },
    {
     "data": {
      "text/html": [
       "<div>\n",
       "<style scoped>\n",
       "    .dataframe tbody tr th:only-of-type {\n",
       "        vertical-align: middle;\n",
       "    }\n",
       "\n",
       "    .dataframe tbody tr th {\n",
       "        vertical-align: top;\n",
       "    }\n",
       "\n",
       "    .dataframe thead th {\n",
       "        text-align: right;\n",
       "    }\n",
       "</style>\n",
       "<table border=\"1\" class=\"dataframe\">\n",
       "  <thead>\n",
       "    <tr style=\"text-align: right;\">\n",
       "      <th></th>\n",
       "      <th>lambda</th>\n",
       "      <th>train_mse_2</th>\n",
       "      <th>test_mse_2</th>\n",
       "    </tr>\n",
       "  </thead>\n",
       "  <tbody>\n",
       "    <tr>\n",
       "      <th>0</th>\n",
       "      <td>0.001000</td>\n",
       "      <td>0.003379</td>\n",
       "      <td>0.004296</td>\n",
       "    </tr>\n",
       "    <tr>\n",
       "      <th>1</th>\n",
       "      <td>0.001292</td>\n",
       "      <td>0.003106</td>\n",
       "      <td>0.003967</td>\n",
       "    </tr>\n",
       "    <tr>\n",
       "      <th>2</th>\n",
       "      <td>0.001668</td>\n",
       "      <td>0.002809</td>\n",
       "      <td>0.003607</td>\n",
       "    </tr>\n",
       "    <tr>\n",
       "      <th>3</th>\n",
       "      <td>0.002154</td>\n",
       "      <td>0.002515</td>\n",
       "      <td>0.003240</td>\n",
       "    </tr>\n",
       "    <tr>\n",
       "      <th>4</th>\n",
       "      <td>0.002783</td>\n",
       "      <td>0.002271</td>\n",
       "      <td>0.002917</td>\n",
       "    </tr>\n",
       "    <tr>\n",
       "      <th>5</th>\n",
       "      <td>0.003594</td>\n",
       "      <td>0.002161</td>\n",
       "      <td>0.002725</td>\n",
       "    </tr>\n",
       "    <tr>\n",
       "      <th>6</th>\n",
       "      <td>0.004642</td>\n",
       "      <td>0.002320</td>\n",
       "      <td>0.002807</td>\n",
       "    </tr>\n",
       "    <tr>\n",
       "      <th>7</th>\n",
       "      <td>0.005995</td>\n",
       "      <td>0.002960</td>\n",
       "      <td>0.003382</td>\n",
       "    </tr>\n",
       "    <tr>\n",
       "      <th>8</th>\n",
       "      <td>0.007743</td>\n",
       "      <td>0.004397</td>\n",
       "      <td>0.004777</td>\n",
       "    </tr>\n",
       "    <tr>\n",
       "      <th>9</th>\n",
       "      <td>0.010000</td>\n",
       "      <td>0.007102</td>\n",
       "      <td>0.007470</td>\n",
       "    </tr>\n",
       "  </tbody>\n",
       "</table>\n",
       "</div>"
      ],
      "text/plain": [
       "     lambda  train_mse_2  test_mse_2\n",
       "0  0.001000     0.003379    0.004296\n",
       "1  0.001292     0.003106    0.003967\n",
       "2  0.001668     0.002809    0.003607\n",
       "3  0.002154     0.002515    0.003240\n",
       "4  0.002783     0.002271    0.002917\n",
       "5  0.003594     0.002161    0.002725\n",
       "6  0.004642     0.002320    0.002807\n",
       "7  0.005995     0.002960    0.003382\n",
       "8  0.007743     0.004397    0.004777\n",
       "9  0.010000     0.007102    0.007470"
      ]
     },
     "execution_count": 7,
     "metadata": {},
     "output_type": "execute_result"
    }
   ],
   "source": [
    "# Ridge\n",
    "sgd = SGD(epochs=100, batches=40, learning_schedule='invscaling', eta0=.5, cost_function='ridge')\n",
    "ridge.run_ridge_kfold(X, z, sgd, k=5, polynomial_orders=[2], lambdas=[0.003594])\n",
    "print('ridge-sgd:\\n', sgd.beta)\n",
    "df = ridge.run_ridge_kfold(X, z, sgd, k=5, polynomial_orders=[2], lambdas=np.logspace(-3,-2,10))\n",
    "df"
   ]
  },
  {
   "cell_type": "code",
   "execution_count": 79,
   "metadata": {},
   "outputs": [
    {
     "data": {
      "text/plain": [
       "array([[0.74473969, 0.82651211, 0.81383602],\n",
       "       [0.78663831, 0.86572883, 0.87880888],\n",
       "       [0.79186047, 0.8849014 , 0.8659692 ],\n",
       "       [0.60457609, 0.68459139, 0.63852002],\n",
       "       [0.8383198 , 0.91986642, 0.91733748]])"
      ]
     },
     "execution_count": 79,
     "metadata": {},
     "output_type": "execute_result"
    }
   ],
   "source": [
    "from FeedForwardNeuralNetwork import Layer, FFNN\n",
    "l1 = Layer(3, 4)\n",
    "l2 = Layer(2, 3)\n",
    "l3 = Layer(1, 2)\n",
    "data_set = np.random.rand(5,4)\n",
    "out = l1.feed_forward(data_set)\n",
    "out"
   ]
  },
  {
   "cell_type": "code",
   "execution_count": 80,
   "metadata": {},
   "outputs": [
    {
     "data": {
      "text/plain": [
       "array([[0.77931861, 0.82033729],\n",
       "       [0.79180812, 0.83367971],\n",
       "       [0.79328506, 0.83449461],\n",
       "       [0.73593727, 0.77343768],\n",
       "       [0.80426663, 0.84596264]])"
      ]
     },
     "execution_count": 80,
     "metadata": {},
     "output_type": "execute_result"
    }
   ],
   "source": [
    "out = l2.feed_forward(out)\n",
    "out"
   ]
  },
  {
   "cell_type": "code",
   "execution_count": 81,
   "metadata": {},
   "outputs": [
    {
     "data": {
      "text/plain": [
       "array([[0.73582821],\n",
       "       [0.73900315],\n",
       "       [0.73927181],\n",
       "       [0.72453045],\n",
       "       [0.74200502]])"
      ]
     },
     "execution_count": 81,
     "metadata": {},
     "output_type": "execute_result"
    }
   ],
   "source": [
    "out = l3.feed_forward(out)\n",
    "out"
   ]
  },
  {
   "cell_type": "code",
   "execution_count": 91,
   "metadata": {},
   "outputs": [
    {
     "data": {
      "text/plain": [
       "array([[0.55935576],\n",
       "       [0.34113841],\n",
       "       [1.44096402],\n",
       "       [0.21378992],\n",
       "       [0.25981859]])"
      ]
     },
     "execution_count": 91,
     "metadata": {},
     "output_type": "execute_result"
    }
   ],
   "source": [
    "ffnn = FFNN(4)\n",
    "t = np.random.rand(5).reshape((5,1))\n",
    "cost_derivatives = ffnn.cost_derivatives(out, t)\n",
    "cost_derivatives"
   ]
  },
  {
   "cell_type": "code",
   "execution_count": 92,
   "metadata": {},
   "outputs": [
    {
     "data": {
      "text/plain": [
       "(array([[0.1087304 ],\n",
       "        [0.06579792],\n",
       "        [0.27774437],\n",
       "        [0.04266949],\n",
       "        [0.049738  ]]),\n",
       " array([[0.5488135 ],\n",
       "        [0.71518937]]))"
      ]
     },
     "execution_count": 92,
     "metadata": {},
     "output_type": "execute_result"
    }
   ],
   "source": [
    "(d,w) = l3.back_propagate(cost_derivatives)\n",
    "(d,w)"
   ]
  },
  {
   "cell_type": "code",
   "execution_count": 94,
   "metadata": {},
   "outputs": [
    {
     "data": {
      "text/plain": [
       "(array([[0.01026258, 0.011461  ],\n",
       "        [0.00595279, 0.00652496],\n",
       "        [0.02499604, 0.02743481],\n",
       "        [0.00455083, 0.00534751],\n",
       "        [0.00429713, 0.00463539]]),\n",
       " array([[0.5488135 , 0.71518937],\n",
       "        [0.60276338, 0.54488318],\n",
       "        [0.4236548 , 0.64589411]]))"
      ]
     },
     "execution_count": 94,
     "metadata": {},
     "output_type": "execute_result"
    }
   ],
   "source": [
    "cost_derivatives = d @ w.T\n",
    "(d,w) = l2.back_propagate(cost_derivatives)\n",
    "(d,w)"
   ]
  },
  {
   "cell_type": "code",
   "execution_count": 95,
   "metadata": {},
   "outputs": [
    {
     "data": {
      "text/plain": [
       "(array([[0.00262893, 0.00178245, 0.00178026],\n",
       "        [0.00133156, 0.00083037, 0.00071745],\n",
       "        [0.00549489, 0.0030571 , 0.00328581],\n",
       "        [0.00151137, 0.00122146, 0.00124221],\n",
       "        [0.00076899, 0.0003771 , 0.00036508]]),\n",
       " array([[0.5488135 , 0.71518937, 0.60276338],\n",
       "        [0.54488318, 0.4236548 , 0.64589411],\n",
       "        [0.43758721, 0.891773  , 0.96366276],\n",
       "        [0.38344152, 0.79172504, 0.52889492]]))"
      ]
     },
     "execution_count": 95,
     "metadata": {},
     "output_type": "execute_result"
    }
   ],
   "source": [
    "cost_derivatives = d @ w.T\n",
    "(d,w) = l1.back_propagate(cost_derivatives)\n",
    "(d,w)"
   ]
  },
  {
   "cell_type": "code",
   "execution_count": 98,
   "metadata": {},
   "outputs": [
    {
     "data": {
      "text/plain": [
       "(array([[0.54736881, 0.7143417 , 0.60189121],\n",
       "        [0.54361782, 0.42290217, 0.64513941],\n",
       "        [0.43632694, 0.89103587, 0.96292387],\n",
       "        [0.381608  , 0.7906015 , 0.52773645]]),\n",
       " array([0.00765285, 0.0085463 , 0.00852184]))"
      ]
     },
     "execution_count": 98,
     "metadata": {},
     "output_type": "execute_result"
    }
   ],
   "source": [
    "eta = .1\n",
    "w = l1.update_weights(eta, data_set)\n",
    "b = l1.update_biases(eta)\n",
    "(w,b)"
   ]
  },
  {
   "cell_type": "code",
   "execution_count": 100,
   "metadata": {},
   "outputs": [
    {
     "data": {
      "text/plain": [
       "(array([[0.54496623, 0.7109382 ],\n",
       "        [0.59848108, 0.54015084],\n",
       "        [0.41944711, 0.64124552]]),\n",
       " array([0.00499406, 0.00445963]))"
      ]
     },
     "execution_count": 100,
     "metadata": {},
     "output_type": "execute_result"
    }
   ],
   "source": [
    "w = l2.update_weights(eta, l1.outputs)\n",
    "b = l2.update_biases(eta)\n",
    "(w,b)"
   ]
  },
  {
   "cell_type": "code",
   "execution_count": 101,
   "metadata": {},
   "outputs": [
    {
     "data": {
      "text/plain": [
       "(array([[0.50595649],\n",
       "        [0.67009888]]),\n",
       " array([-0.04446802]))"
      ]
     },
     "execution_count": 101,
     "metadata": {},
     "output_type": "execute_result"
    }
   ],
   "source": [
    "w = l3.update_weights(eta, l2.outputs)\n",
    "b = l3.update_biases(eta)\n",
    "(w,b)"
   ]
  },
  {
   "cell_type": "code",
   "execution_count": 318,
   "metadata": {},
   "outputs": [],
   "source": [
    "n = 100\n",
    "np.random.seed(0)\n",
    "x = np.random.rand(n,1)*n\n",
    "y = 4 + 2*x + .03*np.random.rand(n,1)\n",
    "X = np.c_[np.ones(n), x]\n",
    "y = y / y.max()\n",
    "X_train, X_test, y_train, y_test = skl.model_selection.train_test_split(X, y, train_size=.7)"
   ]
  },
  {
   "cell_type": "code",
   "execution_count": 324,
   "metadata": {},
   "outputs": [
    {
     "data": {
      "text/plain": [
       "(0.9463707309629964, 0.929431036692402)"
      ]
     },
     "execution_count": 324,
     "metadata": {},
     "output_type": "execute_result"
    }
   ],
   "source": [
    "ffnn = FFNN(2)\n",
    "ffnn.add_layer(2)\n",
    "ffnn.add_layer(1)\n",
    "out = ffnn.train(X_train, y_train, max_iter=50000, eta=30)\n",
    "r2_train = r2(y_train, out)\n",
    "out = ffnn.test(X_test)\n",
    "r2_test = r2(y_test, out)\n",
    "(r2_train, r2_test)"
   ]
  }
 ],
 "metadata": {
  "kernelspec": {
   "display_name": "Python 3",
   "language": "python",
   "name": "python3"
  },
  "language_info": {
   "codemirror_mode": {
    "name": "ipython",
    "version": 3
   },
   "file_extension": ".py",
   "mimetype": "text/x-python",
   "name": "python",
   "nbconvert_exporter": "python",
   "pygments_lexer": "ipython3",
   "version": "3.8.5"
  }
 },
 "nbformat": 4,
 "nbformat_minor": 4
}
